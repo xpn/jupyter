{
 "cells": [
  {
   "cell_type": "markdown",
   "id": "charged-founder",
   "metadata": {},
   "source": [
    "# Cobalt Strike Notebook\n",
    "\n",
    "## Beacon Payload Analysis\n",
    "\n",
    "This notebook can be used to extract an embedded configuration from a Cobalt Strike beacon payload, displaying information on the target C2 endpoint, GET/POST methods etc..\n",
    "\n",
    "Further information on how this is done can be found at https://blog.xpnsec.com/tailoring-cobalt-strike-on-target/"
   ]
  },
  {
   "cell_type": "code",
   "execution_count": 1,
   "id": "severe-kansas",
   "metadata": {},
   "outputs": [
    {
     "data": {
      "application/vnd.jupyter.widget-view+json": {
       "model_id": "0993b7b1ef0e4f039a370355f77ec069",
       "version_major": 2,
       "version_minor": 0
      },
      "text/plain": [
       "FileUpload(value={}, description='Upload')"
      ]
     },
     "metadata": {},
     "output_type": "display_data"
    }
   ],
   "source": [
    "import sys\n",
    "sys.path.append('../src/')\n",
    "\n",
    "from helpers import cs\n",
    "import ipywidgets as widgets\n",
    "import pandas as pd\n",
    "\n",
    "def on_upload_change(change):\n",
    "    for f in uploader.value:\n",
    "        csAnalysis = cs.CobaltStrike(uploader.value[f]['content'])\n",
    "        d = csAnalysis.readConfig()\n",
    "        pd.set_option('max_colwidth', 800)\n",
    "        df = pd.DataFrame(data=d, columns=[\"Option\",\"Value\"])\n",
    "        display(df)\n",
    "\n",
    "uploader = widgets.FileUpload(multiple=False)\n",
    "uploader.observe(on_upload_change, names='_counter')\n",
    "display(uploader)"
   ]
  }
 ],
 "metadata": {
  "kernelspec": {
   "display_name": "Python 3",
   "language": "python",
   "name": "python3"
  },
  "language_info": {
   "codemirror_mode": {
    "name": "ipython",
    "version": 3
   },
   "file_extension": ".py",
   "mimetype": "text/x-python",
   "name": "python",
   "nbconvert_exporter": "python",
   "pygments_lexer": "ipython3",
   "version": "3.8.8"
  }
 },
 "nbformat": 4,
 "nbformat_minor": 5
}
