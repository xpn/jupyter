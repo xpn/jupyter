{
 "cells": [
  {
   "cell_type": "markdown",
   "id": "shared-thermal",
   "metadata": {},
   "source": [
    "# Exchange HAFNIUM Web Shells\n",
    "\n",
    "A quick notebook looking at webshells disclosed by Microsoft in their MSTIC feed:\n",
    "\n",
    "https://raw.githubusercontent.com/Azure/Azure-Sentinel/master/Sample%20Data/Feeds/MSTICIoCs-ExchangeServerVulnerabilitiesDisclosedMarch2021.json"
   ]
  },
  {
   "cell_type": "code",
   "execution_count": null,
   "id": "thrown-priest",
   "metadata": {},
   "outputs": [],
   "source": [
    "%load_ext dotenv\n",
    "%dotenv\n",
    "\n",
    "import os\n",
    "\n",
    "API_KEY = \"API_KEY_HERE\"\n",
    "VT_LIMIT = 10\n",
    "TARGET_DIR = \"/tmp/samples\"\n",
    "FEED_URL = \"https://raw.githubusercontent.com/Azure/Azure-Sentinel/master/Sample%20Data/Feeds/MSTICIoCs-ExchangeServerVulnerabilitiesDisclosedMarch2021.json\"\n",
    "\n",
    "# Loaded via .env\n",
    "if os.getenv('API_KEY') != None:\n",
    "    API_KEY = os.getenv('API_KEY')\n",
    "    print(\"API_KEY loaded from .env\")"
   ]
  },
  {
   "cell_type": "markdown",
   "id": "alert-wisdom",
   "metadata": {},
   "source": [
    "Now we can ingest the data provided and parse for sample hashes."
   ]
  },
  {
   "cell_type": "code",
   "execution_count": null,
   "id": "stopped-contemporary",
   "metadata": {},
   "outputs": [],
   "source": [
    "import pandas as pd\n",
    "import requests\n",
    "import json\n",
    "\n",
    "response = json.loads(requests.get(FEED_URL).text)\n",
    "feed = pd.json_normalize(response).query(\"IndicatorType == 'sha256'\")\n",
    "pd.set_option('max_colwidth', 0)\n",
    "display(feed)"
   ]
  },
  {
   "cell_type": "markdown",
   "id": "growing-entrepreneur",
   "metadata": {},
   "source": [
    "And finally we download the samples where available and view the results:"
   ]
  },
  {
   "cell_type": "code",
   "execution_count": null,
   "id": "applied-finnish",
   "metadata": {},
   "outputs": [],
   "source": [
    "import sys\n",
    "import nest_asyncio\n",
    "import ipywidgets as widgets\n",
    "import pandas as pd\n",
    "\n",
    "nest_asyncio.apply()\n",
    "sys.path.append('../src/')\n",
    "\n",
    "from helpers import vthelper, vba\n",
    "\n",
    "results = []\n",
    "\n",
    "# Retrieve search results from VT and download each sample to TARGET_DIR\n",
    "vt = vthelper.VirusTotal(API_KEY, limit=VT_LIMIT)\n",
    "for sampleHash in feed['Indicator']:\n",
    "    for result in vt.downloadSearchResults(sampleHash, TARGET_DIR):\n",
    "        results.append((result.sha256, result.tags))\n",
    "    \n",
    "# Display our results\n",
    "pd.set_option('max_colwidth', 800)\n",
    "df = pd.DataFrame(data=results, columns=[\"Hash\",\"Tags\"])\n",
    "display(df)\n",
    "\n",
    "# results contains 3 elements:\n",
    "# [0] - SHA256 hash\n",
    "# [1] - VT Tags"
   ]
  },
  {
   "cell_type": "code",
   "execution_count": null,
   "id": "likely-customs",
   "metadata": {},
   "outputs": [],
   "source": [
    "tabs = []\n",
    "for result in results:\n",
    "    tabs.append(widgets.Output())\n",
    "    with tabs[-1]:\n",
    "        with open(f\"{TARGET_DIR}/{result[0]}\") as fd:\n",
    "            data = fd.read()\n",
    "            display(data)\n",
    "            \n",
    "out = widgets.Tab(tabs)\n",
    "for i in range(len(results)):\n",
    "    out.set_title(i, results[i][0])\n",
    "\n",
    "display(out)"
   ]
  },
  {
   "cell_type": "code",
   "execution_count": null,
   "id": "national-separation",
   "metadata": {},
   "outputs": [],
   "source": [
    "stored = []\n",
    "for i in range(len(results)):\n",
    "    stored.append({\"path\": f\"{TARGET_DIR}/{results[i][0]}\", \"hash\": results[i][0]})\n",
    "\n",
    "%store stored"
   ]
  },
  {
   "cell_type": "code",
   "execution_count": null,
   "id": "driven-calgary",
   "metadata": {},
   "outputs": [],
   "source": []
  }
 ],
 "metadata": {
  "kernelspec": {
   "display_name": "Python 3",
   "language": "python",
   "name": "python3"
  },
  "language_info": {
   "codemirror_mode": {
    "name": "ipython",
    "version": 3
   },
   "file_extension": ".py",
   "mimetype": "text/x-python",
   "name": "python",
   "nbconvert_exporter": "python",
   "pygments_lexer": "ipython3",
   "version": "3.8.8"
  }
 },
 "nbformat": 4,
 "nbformat_minor": 5
}
