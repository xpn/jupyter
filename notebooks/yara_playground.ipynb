{
 "cells": [
  {
   "cell_type": "markdown",
   "id": "drawn-flower",
   "metadata": {},
   "source": [
    "# Yara Playground\n",
    "\n",
    "This notebook allows us to run a selection of Yara rules against a collection of files. This comes in handy when we use it in combination with previously downloaded files using notebooks like `virustotal_vba_analysis` which will download and store samples, and pass them in a stored variable `stored` for use in this notebook.\n",
    "\n",
    "The input format of the `stored` variable would be:\n",
    "\n",
    "```\n",
    "stored = [{'path':'/tmp/samples/SHAHASH','name':'name of sample','hash':'SHA1HASH'},...}\n",
    "```"
   ]
  },
  {
   "cell_type": "code",
   "execution_count": null,
   "id": "fixed-surfing",
   "metadata": {
    "ExecuteTime": {
     "end_time": "2021-03-08T12:39:37.939145Z",
     "start_time": "2021-03-08T12:39:37.867287Z"
    }
   },
   "outputs": [],
   "source": [
    "%store -r stored\n",
    "\n",
    "RESULTS_FOUND=False\n",
    "\n",
    "try:\n",
    "    if len(stored) > 0:\n",
    "        print(\"A list of stored results has been found for use in this notebook!!\")\n",
    "        for result in stored:\n",
    "            print(f\"Path: {result['path']}\")\n",
    "                  \n",
    "        RESULTS_FOUND=True\n",
    "    else:\n",
    "        print(\"No stored results have been found... make sure you provide sample input below\")\n",
    "except NameError:\n",
    "    print(\"No stored results have been found... make sure you provide sample input below\")"
   ]
  },
  {
   "cell_type": "markdown",
   "id": "described-individual",
   "metadata": {
    "ExecuteTime": {
     "end_time": "2021-03-08T12:34:29.885905Z",
     "start_time": "2021-03-08T12:34:29.858658Z"
    }
   },
   "source": [
    "Optional step of importing a list of rules for later use (only needed if we aren't crafting rules on the fly)."
   ]
  },
  {
   "cell_type": "code",
   "execution_count": null,
   "id": "clean-patrick",
   "metadata": {
    "ExecuteTime": {
     "end_time": "2021-03-08T12:39:47.348946Z",
     "start_time": "2021-03-08T12:39:46.016788Z"
    }
   },
   "outputs": [],
   "source": [
    "!git clone --depth=1 https://github.com/Yara-Rules/rules.git /tmp/rules"
   ]
  },
  {
   "cell_type": "markdown",
   "id": "unlike-confidentiality",
   "metadata": {},
   "source": [
    "If we are crafting our own rules, we can use run the step below which will give us an input field to work with."
   ]
  },
  {
   "cell_type": "code",
   "execution_count": null,
   "id": "temporal-recording",
   "metadata": {
    "ExecuteTime": {
     "end_time": "2021-03-08T12:39:53.807769Z",
     "start_time": "2021-03-08T12:39:53.724647Z"
    }
   },
   "outputs": [],
   "source": [
    "import sys\n",
    "sys.path.append('../src/')\n",
    "import ipywidgets as widgets\n",
    "\n",
    "yaraInput = widgets.Textarea(\n",
    "    value='rule dummy { \\n condition: true\\n}',\n",
    "    placeholder='Yara Rule Goes Here...',\n",
    "    description='Yara Rule:',\n",
    "    disabled=False,\n",
    "    rows=10,\n",
    "    columns=40\n",
    ")\n",
    "display(yaraInput)"
   ]
  },
  {
   "cell_type": "markdown",
   "id": "failing-burst",
   "metadata": {},
   "source": [
    "Now we can apply our rules to previously downloaded VT samples, which should speed up the process of tuning Yara rules to the latest downloaded samples."
   ]
  },
  {
   "cell_type": "code",
   "execution_count": null,
   "id": "sitting-municipality",
   "metadata": {
    "ExecuteTime": {
     "end_time": "2021-03-08T12:40:50.241350Z",
     "start_time": "2021-03-08T12:40:50.155730Z"
    }
   },
   "outputs": [],
   "source": [
    "from helpers import yarahelper\n",
    "import ipywidgets as widgets\n",
    "import pandas as pd\n",
    "\n",
    "#m = yarahelper.YaraMatch('/tmp/rules/malware/GEN_PowerShell.yar')\n",
    "m = yarahelper.YaraMatch.usingYaraString(yaraInput.value)\n",
    "\n",
    "results = []\n",
    "\n",
    "if RESULTS_FOUND:\n",
    "    for result in stored:\n",
    "        matches = m.getAllMatches(result[\"path\"])\n",
    "        if len(matches) != 0:\n",
    "            results.append((matches, result[\"name\"], result[\"hash\"]))\n",
    "            # Display our results\n",
    "    pd.set_option('max_colwidth', 800)\n",
    "    df = pd.DataFrame(data=results, columns=[\"Yara Name\",\"Name\",\"Hash\"])\n",
    "    display(df)\n",
    "else:\n",
    "    paths = [\"/tmp/samples/test\"]\n",
    "    for result in paths:\n",
    "        matches = m.getAllMatches(result)\n",
    "        if len(matches) != 0:\n",
    "            results.append((matches, result))\n",
    "            # Display our results\n",
    "    pd.set_option('max_colwidth', 800)\n",
    "    df = pd.DataFrame(data=results, columns=[\"Yara Name\",\"Path\"])\n",
    "    display(df)\n",
    "        \n"
   ]
  },
  {
   "cell_type": "code",
   "execution_count": null,
   "id": "broadband-cream",
   "metadata": {},
   "outputs": [],
   "source": []
  }
 ],
 "metadata": {
  "kernelspec": {
   "display_name": "Python 3",
   "language": "python",
   "name": "python3"
  },
  "language_info": {
   "codemirror_mode": {
    "name": "ipython",
    "version": 3
   },
   "file_extension": ".py",
   "mimetype": "text/x-python",
   "name": "python",
   "nbconvert_exporter": "python",
   "pygments_lexer": "ipython3",
   "version": "3.8.8"
  },
  "varInspector": {
   "cols": {
    "lenName": 16,
    "lenType": 16,
    "lenVar": 40
   },
   "kernels_config": {
    "python": {
     "delete_cmd_postfix": "",
     "delete_cmd_prefix": "del ",
     "library": "var_list.py",
     "varRefreshCmd": "print(var_dic_list())"
    },
    "r": {
     "delete_cmd_postfix": ") ",
     "delete_cmd_prefix": "rm(",
     "library": "var_list.r",
     "varRefreshCmd": "cat(var_dic_list()) "
    }
   },
   "types_to_exclude": [
    "module",
    "function",
    "builtin_function_or_method",
    "instance",
    "_Feature"
   ],
   "window_display": false
  }
 },
 "nbformat": 4,
 "nbformat_minor": 5
}
