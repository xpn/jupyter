{
 "cells": [
  {
   "cell_type": "markdown",
   "id": "anonymous-symposium",
   "metadata": {},
   "source": [
    "## VT Workbook - VBA Analysis\n",
    "\n",
    "This workbook shows a simple example of analysing a family of malware using the VT API. To use this you will need a VirusTotal API key which needs to be set below.\n",
    "\n",
    "This will allow us to download a set of VBA samples with a low detection rate, and extract the macros contained within each.\n",
    "\n",
    "**Due to the API key being used, I'd recommend that this isn't run outside of your trusted environment**"
   ]
  },
  {
   "cell_type": "code",
   "execution_count": null,
   "id": "precious-adelaide",
   "metadata": {},
   "outputs": [],
   "source": [
    "API_KEY = \"API_KEY_GOES_HERE\"\n",
    "VT_LIMIT = 10\n",
    "VT_SEARCH = \"tag:powershell fs:20d- type:doc positives:5-\"\n",
    "TARGET_DIR = \"/tmp/samples\""
   ]
  },
  {
   "cell_type": "markdown",
   "id": "chubby-virus",
   "metadata": {},
   "source": [
    "First step we need to gather some samples to analyse. We will do this via the VT API, downloading samples to the `TARGET_DIR` directory for later analysis (also means we can repeat analysis without using up VT API call credits ;)"
   ]
  },
  {
   "cell_type": "code",
   "execution_count": null,
   "id": "shared-europe",
   "metadata": {},
   "outputs": [],
   "source": [
    "import sys\n",
    "import nest_asyncio\n",
    "import ipywidgets as widgets\n",
    "import pandas as pd\n",
    "\n",
    "nest_asyncio.apply()\n",
    "sys.path.append('../src/')\n",
    "\n",
    "from helpers import vthelper, vba\n",
    "\n",
    "results = []\n",
    "\n",
    "# Retrieve search results from VT and download each sample to TARGET_DIR\n",
    "vt = vthelper.VirusTotal(API_KEY, limit=VT_LIMIT)\n",
    "for result in vt.downloadSearchResults(VT_SEARCH, TARGET_DIR):\n",
    "    results.append((result.sha256, result.meaningful_name, result.tags))\n",
    "    \n",
    "# Display our results\n",
    "pd.set_option('max_colwidth', 800)\n",
    "df = pd.DataFrame(data=results, columns=[\"Hash\",\"Name\",\"Tags\"])\n",
    "display(df)\n",
    "\n",
    "# results contains 3 elements:\n",
    "# [0] - SHA256 hash\n",
    "# [1] - Name\n",
    "# [2] - VT Tags"
   ]
  },
  {
   "cell_type": "code",
   "execution_count": null,
   "id": "express-princess",
   "metadata": {},
   "outputs": [],
   "source": [
    "!ls -alF {TARGET_DIR}"
   ]
  },
  {
   "cell_type": "markdown",
   "id": "expanded-tactics",
   "metadata": {},
   "source": [
    "With our samples downloaded, we can now analyse each VBA project using oletools. Each identified VBA sample will be displayed."
   ]
  },
  {
   "cell_type": "code",
   "execution_count": null,
   "id": "controversial-restriction",
   "metadata": {},
   "outputs": [],
   "source": [
    "tabs = []\n",
    "for result in results:\n",
    "    tabs.append(widgets.Output())\n",
    "    with tabs[-1]:\n",
    "        analysis = vba.VBAAnalysis(f\"{TARGET_DIR}/{result[0]}\")\n",
    "        for code in analysis.analyse():\n",
    "            print(f\"' SAMPLE HASH: {result[0]}\")\n",
    "            print(code)\n",
    "\n",
    "out = widgets.Tab(tabs)\n",
    "for i in range(len(results)):\n",
    "    out.set_title(i, results[i][1])\n",
    "\n",
    "display(out)"
   ]
  },
  {
   "cell_type": "code",
   "execution_count": null,
   "id": "sustained-volunteer",
   "metadata": {},
   "outputs": [],
   "source": []
  }
 ],
 "metadata": {
  "kernelspec": {
   "display_name": "Python 3",
   "language": "python",
   "name": "python3"
  },
  "language_info": {
   "codemirror_mode": {
    "name": "ipython",
    "version": 3
   },
   "file_extension": ".py",
   "mimetype": "text/x-python",
   "name": "python",
   "nbconvert_exporter": "python",
   "pygments_lexer": "ipython3",
   "version": "3.8.8"
  }
 },
 "nbformat": 4,
 "nbformat_minor": 5
}
