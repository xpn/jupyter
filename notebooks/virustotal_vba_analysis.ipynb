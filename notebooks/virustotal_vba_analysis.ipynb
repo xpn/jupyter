{
 "cells": [
  {
   "cell_type": "markdown",
   "id": "anonymous-symposium",
   "metadata": {},
   "source": [
    "## VT Workbook - VBA Analysis\n",
    "\n",
    "This workbook shows a simple example of analysing a family of malware using the VT API. To use this you will need a VirusTotal API key which needs to be set below.\n",
    "\n",
    "This will allow us to download a set of VBA samples with a low detection rate, and extract the macros contained within each.\n",
    "\n",
    "**Due to the API key being used, I'd recommend that this isn't run outside of your trusted environment**"
   ]
  },
  {
   "cell_type": "code",
   "execution_count": null,
   "id": "precious-adelaide",
   "metadata": {
    "ExecuteTime": {
     "end_time": "2021-03-08T12:51:14.086567Z",
     "start_time": "2021-03-08T12:51:14.022900Z"
    }
   },
   "outputs": [],
   "source": [
    "%load_ext dotenv\n",
    "%dotenv\n",
    "\n",
    "API_KEY = \"API_KEY_HERE\"\n",
    "VT_LIMIT = 10\n",
    "VT_SEARCH = \"tag:powershell fs:20d- type:doc positives:5-\"\n",
    "TARGET_DIR = \"/tmp/samples\"\n",
    "\n",
    "# Loaded via .env\n",
    "if os.getenv('API_KEY') != None:\n",
    "    API_KEY = os.getenv('API_KEY')"
   ]
  },
  {
   "cell_type": "markdown",
   "id": "chubby-virus",
   "metadata": {},
   "source": [
    "First step we need to gather some samples to analyse. We will do this via the VT API, downloading samples to the `TARGET_DIR` directory for later analysis (also means we can repeat analysis without using up VT API call credits ;)"
   ]
  },
  {
   "cell_type": "code",
   "execution_count": null,
   "id": "shared-europe",
   "metadata": {
    "ExecuteTime": {
     "end_time": "2021-03-08T09:50:45.261428Z",
     "start_time": "2021-03-08T09:50:40.922405Z"
    }
   },
   "outputs": [],
   "source": [
    "import sys\n",
    "import nest_asyncio\n",
    "import ipywidgets as widgets\n",
    "import pandas as pd\n",
    "\n",
    "nest_asyncio.apply()\n",
    "sys.path.append('../src/')\n",
    "\n",
    "from helpers import vthelper, vba\n",
    "\n",
    "results = []\n",
    "\n",
    "# Retrieve search results from VT and download each sample to TARGET_DIR\n",
    "vt = vthelper.VirusTotal(API_KEY, limit=VT_LIMIT)\n",
    "for result in vt.downloadSearchResults(VT_SEARCH, TARGET_DIR):\n",
    "    results.append((result.sha256, result.meaningful_name, result.tags))\n",
    "    \n",
    "# Display our results\n",
    "pd.set_option('max_colwidth', 800)\n",
    "df = pd.DataFrame(data=results, columns=[\"Hash\",\"Name\",\"Tags\"])\n",
    "display(df)\n",
    "\n",
    "# results contains 3 elements:\n",
    "# [0] - SHA256 hash\n",
    "# [1] - Name\n",
    "# [2] - VT Tags"
   ]
  },
  {
   "cell_type": "code",
   "execution_count": null,
   "id": "express-princess",
   "metadata": {},
   "outputs": [],
   "source": [
    "!ls -alF {TARGET_DIR}"
   ]
  },
  {
   "cell_type": "markdown",
   "id": "expanded-tactics",
   "metadata": {},
   "source": [
    "With our samples downloaded, we can now analyse each VBA project using oletools. Each identified VBA sample will be displayed."
   ]
  },
  {
   "cell_type": "code",
   "execution_count": null,
   "id": "controversial-restriction",
   "metadata": {
    "ExecuteTime": {
     "end_time": "2021-03-08T09:51:06.863200Z",
     "start_time": "2021-03-08T09:51:05.343315Z"
    }
   },
   "outputs": [],
   "source": [
    "tabs = []\n",
    "for result in results:\n",
    "    tabs.append(widgets.Output())\n",
    "    with tabs[-1]:\n",
    "        analysis = vba.VBAAnalysis(f\"{TARGET_DIR}/{result[0]}\")\n",
    "        for code in analysis.analyse():\n",
    "            print(f\"' SAMPLE HASH: {result[0]}\")\n",
    "            print(code)\n",
    "\n",
    "out = widgets.Tab(tabs)\n",
    "for i in range(len(results)):\n",
    "    out.set_title(i, results[i][1])\n",
    "\n",
    "display(out)"
   ]
  },
  {
   "cell_type": "code",
   "execution_count": null,
   "id": "sustained-volunteer",
   "metadata": {
    "ExecuteTime": {
     "end_time": "2021-03-08T10:02:23.073822Z",
     "start_time": "2021-03-08T10:02:22.999435Z"
    }
   },
   "outputs": [],
   "source": [
    "stored = []\n",
    "for i in range(len(results)):\n",
    "    stored.append({\"path\": f\"{TARGET_DIR}/{results[i][0]}\", \"name\": results[i][1], \"hash\": results[i][0]})\n",
    "\n",
    "%store stored"
   ]
  },
  {
   "cell_type": "code",
   "execution_count": null,
   "id": "extreme-marks",
   "metadata": {},
   "outputs": [],
   "source": []
  }
 ],
 "metadata": {
  "kernelspec": {
   "display_name": "Python 3",
   "language": "python",
   "name": "python3"
  },
  "language_info": {
   "codemirror_mode": {
    "name": "ipython",
    "version": 3
   },
   "file_extension": ".py",
   "mimetype": "text/x-python",
   "name": "python",
   "nbconvert_exporter": "python",
   "pygments_lexer": "ipython3",
   "version": "3.8.8"
  },
  "varInspector": {
   "cols": {
    "lenName": 16,
    "lenType": 16,
    "lenVar": 40
   },
   "kernels_config": {
    "python": {
     "delete_cmd_postfix": "",
     "delete_cmd_prefix": "del ",
     "library": "var_list.py",
     "varRefreshCmd": "print(var_dic_list())"
    },
    "r": {
     "delete_cmd_postfix": ") ",
     "delete_cmd_prefix": "rm(",
     "library": "var_list.r",
     "varRefreshCmd": "cat(var_dic_list()) "
    }
   },
   "types_to_exclude": [
    "module",
    "function",
    "builtin_function_or_method",
    "instance",
    "_Feature"
   ],
   "window_display": false
  }
 },
 "nbformat": 4,
 "nbformat_minor": 5
}
