{
 "cells": [
  {
   "cell_type": "markdown",
   "id": "charged-founder",
   "metadata": {},
   "source": [
    "# Cobalt Strike Notebook\n",
    "\n",
    "## Stager Payload Analysis\n",
    "\n",
    "This notebook can be used to emulate the shellcode provided as a stager by Cobalt Strike. \n",
    "\n",
    "This can be useful to provide information on the HTTP hostname, port, path and cookie used by CS to request the `beacon.bin` payload."
   ]
  },
  {
   "cell_type": "code",
   "execution_count": null,
   "id": "severe-kansas",
   "metadata": {},
   "outputs": [],
   "source": [
    "import sys\n",
    "sys.path.append('../src/')\n",
    "\n",
    "from helpers import emulation\n",
    "import ipywidgets as widgets\n",
    "import pandas as pd\n",
    "\n",
    "SHELLCODE_ARCH = 'x86'\n",
    "\n",
    "def hook_internetconnect(emu, api_name, func, params):\n",
    "    rv = func(params)\n",
    "    print(f\"Host: {params[1]}:{params[2]}\")\n",
    "    return rv\n",
    "\n",
    "def hook_httpopenrequest(emu, api_name, func, params):\n",
    "    rv = func(params)\n",
    "    print(f\"Path: {params[2]}\")\n",
    "    return rv\n",
    "\n",
    "def hook_httpsendrequest(emu, api_name, func, params):\n",
    "    rv = func(params)\n",
    "    print(f\"Cookie: {params[1]}\")\n",
    "    emu.stop()\n",
    "    return rv\n",
    "\n",
    "def on_upload_change(change):\n",
    "    print(\"File uploaded... emulating.\")\n",
    "    for f in uploader.value:\n",
    "        emu = emulation.ShellcodeEmulation.usingData(uploader.value[f]['content'], SHELLCODE_ARCH)\n",
    "        emu.addHook('wininet','HttpOpenRequestA', hook_httpopenrequest)\n",
    "        emu.addHook('wininet','HttpSendRequestA', hook_httpsendrequest)\n",
    "        emu.addHook('wininet','InternetConnectA', hook_internetconnect)\n",
    "        emu.run()\n",
    "\n",
    "uploader = widgets.FileUpload(multiple=False)\n",
    "uploader.observe(on_upload_change, names='_counter')\n",
    "display(uploader)"
   ]
  },
  {
   "cell_type": "code",
   "execution_count": null,
   "id": "average-copyright",
   "metadata": {},
   "outputs": [],
   "source": []
  }
 ],
 "metadata": {
  "kernelspec": {
   "display_name": "Python 3",
   "language": "python",
   "name": "python3"
  },
  "language_info": {
   "codemirror_mode": {
    "name": "ipython",
    "version": 3
   },
   "file_extension": ".py",
   "mimetype": "text/x-python",
   "name": "python",
   "nbconvert_exporter": "python",
   "pygments_lexer": "ipython3",
   "version": "3.8.8"
  }
 },
 "nbformat": 4,
 "nbformat_minor": 5
}
